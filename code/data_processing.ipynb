{
 "cells": [
  {
   "cell_type": "code",
   "execution_count": 8,
   "id": "4f393cc0-136f-4498-a394-7d0d65676a3c",
   "metadata": {},
   "outputs": [
    {
     "name": "stdout",
     "output_type": "stream",
     "text": [
      "Defaulting to user installation because normal site-packages is not writeable\n",
      "Requirement already satisfied: pandas in ./.local/lib/python3.6/site-packages (1.1.5)\n",
      "Requirement already satisfied: python-dateutil>=2.7.3 in /usr/local/project/ondemand/app_jupyter/3.0.17/lib/python3.6/site-packages (from pandas) (2.8.2)\n",
      "Requirement already satisfied: numpy>=1.15.4 in ./.local/lib/python3.6/site-packages (from pandas) (1.19.5)\n",
      "Requirement already satisfied: pytz>=2017.2 in /usr/local/project/ondemand/app_jupyter/3.0.17/lib/python3.6/site-packages (from pandas) (2021.1)\n",
      "Requirement already satisfied: six>=1.5 in /usr/local/project/ondemand/app_jupyter/3.0.17/lib/python3.6/site-packages (from python-dateutil>=2.7.3->pandas) (1.16.0)\n",
      "\u001b[33mWARNING: You are using pip version 21.2.4; however, version 21.3.1 is available.\n",
      "You should consider upgrading via the '/usr/local/project/ondemand/app_jupyter/3.0.17/bin/python -m pip install --upgrade pip' command.\u001b[0m\n",
      "Defaulting to user installation because normal site-packages is not writeable\n",
      "Requirement already satisfied: scikit-learn in ./.local/lib/python3.6/site-packages (0.24.2)\n",
      "Requirement already satisfied: scipy>=0.19.1 in ./.local/lib/python3.6/site-packages (from scikit-learn) (1.5.4)\n",
      "Requirement already satisfied: joblib>=0.11 in ./.local/lib/python3.6/site-packages (from scikit-learn) (1.1.1)\n",
      "Requirement already satisfied: threadpoolctl>=2.0.0 in ./.local/lib/python3.6/site-packages (from scikit-learn) (3.1.0)\n",
      "Requirement already satisfied: numpy>=1.13.3 in ./.local/lib/python3.6/site-packages (from scikit-learn) (1.19.5)\n",
      "\u001b[33mWARNING: You are using pip version 21.2.4; however, version 21.3.1 is available.\n",
      "You should consider upgrading via the '/usr/local/project/ondemand/app_jupyter/3.0.17/bin/python -m pip install --upgrade pip' command.\u001b[0m\n",
      "Defaulting to user installation because normal site-packages is not writeable\n",
      "Requirement already satisfied: seaborn in ./.local/lib/python3.6/site-packages (0.11.2)\n",
      "Requirement already satisfied: scipy>=1.0 in ./.local/lib/python3.6/site-packages (from seaborn) (1.5.4)\n",
      "Requirement already satisfied: pandas>=0.23 in ./.local/lib/python3.6/site-packages (from seaborn) (1.1.5)\n",
      "Requirement already satisfied: numpy>=1.15 in ./.local/lib/python3.6/site-packages (from seaborn) (1.19.5)\n",
      "Requirement already satisfied: matplotlib>=2.2 in ./.local/lib/python3.6/site-packages (from seaborn) (3.3.4)\n",
      "Requirement already satisfied: cycler>=0.10 in ./.local/lib/python3.6/site-packages (from matplotlib>=2.2->seaborn) (0.11.0)\n",
      "Requirement already satisfied: python-dateutil>=2.1 in /usr/local/project/ondemand/app_jupyter/3.0.17/lib/python3.6/site-packages (from matplotlib>=2.2->seaborn) (2.8.2)\n",
      "Requirement already satisfied: pyparsing!=2.0.4,!=2.1.2,!=2.1.6,>=2.0.3 in /usr/local/project/ondemand/app_jupyter/3.0.17/lib/python3.6/site-packages (from matplotlib>=2.2->seaborn) (2.4.7)\n",
      "Requirement already satisfied: kiwisolver>=1.0.1 in ./.local/lib/python3.6/site-packages (from matplotlib>=2.2->seaborn) (1.3.1)\n",
      "Requirement already satisfied: pillow>=6.2.0 in ./.local/lib/python3.6/site-packages (from matplotlib>=2.2->seaborn) (8.4.0)\n",
      "Requirement already satisfied: pytz>=2017.2 in /usr/local/project/ondemand/app_jupyter/3.0.17/lib/python3.6/site-packages (from pandas>=0.23->seaborn) (2021.1)\n",
      "Requirement already satisfied: six>=1.5 in /usr/local/project/ondemand/app_jupyter/3.0.17/lib/python3.6/site-packages (from python-dateutil>=2.1->matplotlib>=2.2->seaborn) (1.16.0)\n",
      "\u001b[33mWARNING: You are using pip version 21.2.4; however, version 21.3.1 is available.\n",
      "You should consider upgrading via the '/usr/local/project/ondemand/app_jupyter/3.0.17/bin/python -m pip install --upgrade pip' command.\u001b[0m\n",
      "Defaulting to user installation because normal site-packages is not writeable\n",
      "Requirement already satisfied: matplotlib in ./.local/lib/python3.6/site-packages (3.3.4)\n",
      "Requirement already satisfied: kiwisolver>=1.0.1 in ./.local/lib/python3.6/site-packages (from matplotlib) (1.3.1)\n",
      "Requirement already satisfied: pyparsing!=2.0.4,!=2.1.2,!=2.1.6,>=2.0.3 in /usr/local/project/ondemand/app_jupyter/3.0.17/lib/python3.6/site-packages (from matplotlib) (2.4.7)\n",
      "Requirement already satisfied: numpy>=1.15 in ./.local/lib/python3.6/site-packages (from matplotlib) (1.19.5)\n",
      "Requirement already satisfied: python-dateutil>=2.1 in /usr/local/project/ondemand/app_jupyter/3.0.17/lib/python3.6/site-packages (from matplotlib) (2.8.2)\n",
      "Requirement already satisfied: cycler>=0.10 in ./.local/lib/python3.6/site-packages (from matplotlib) (0.11.0)\n",
      "Requirement already satisfied: pillow>=6.2.0 in ./.local/lib/python3.6/site-packages (from matplotlib) (8.4.0)\n",
      "Requirement already satisfied: six>=1.5 in /usr/local/project/ondemand/app_jupyter/3.0.17/lib/python3.6/site-packages (from python-dateutil>=2.1->matplotlib) (1.16.0)\n",
      "\u001b[33mWARNING: You are using pip version 21.2.4; however, version 21.3.1 is available.\n",
      "You should consider upgrading via the '/usr/local/project/ondemand/app_jupyter/3.0.17/bin/python -m pip install --upgrade pip' command.\u001b[0m\n"
     ]
    }
   ],
   "source": [
    "# install and import packages\n",
    "!pip install pandas\n",
    "!pip install scikit-learn\n",
    "!pip install seaborn\n",
    "!pip install matplotlib\n",
    "\n",
    "import pandas as pd\n",
    "import numpy as np\n",
    "import sklearn as sk\n",
    "import seaborn as sns\n",
    "import matplotlib.pyplot as plt"
   ]
  },
  {
   "cell_type": "code",
   "execution_count": 15,
   "id": "8d49f114-f838-482f-a3f2-109cc8f5b5ec",
   "metadata": {},
   "outputs": [
    {
     "name": "stderr",
     "output_type": "stream",
     "text": [
      "/usr/local/project/ondemand/app_jupyter/3.0.17/lib64/python3.6/site-packages/IPython/core/interactiveshell.py:3072: DtypeWarning: Columns (30) have mixed types.Specify dtype option on import or set low_memory=False.\n",
      "  interactivity=interactivity, compiler=compiler, result=result)\n",
      "/usr/local/project/ondemand/app_jupyter/3.0.17/lib64/python3.6/site-packages/IPython/core/interactiveshell.py:3072: DtypeWarning: Columns (3) have mixed types.Specify dtype option on import or set low_memory=False.\n",
      "  interactivity=interactivity, compiler=compiler, result=result)\n"
     ]
    }
   ],
   "source": [
    "# concatenate all data files into single Dataframe\n",
    "reg = pd.read_csv(\"registryCSVs/1.csv\")\n",
    "\n",
    "for i in range(13):\n",
    "    pth = \"registryCSVs/\" + str(i+2) + \".csv\"\n",
    "    temp = pd.read_csv(pth)\n",
    "    \n",
    "    reg = pd.concat([reg, temp])\n",
    "\n",
    "reg.head(10)\n",
    "\n",
    "# current colums:\n",
    "    #  'DisclosureId', 'JobStartDate', 'JobEndDate', 'APINumber', 'StateName',\n",
    "    #  'CountyName', 'OperatorName', 'WellName', 'Latitude', 'Longitude',\n",
    "    #  'Projection', 'TVD', 'TotalBaseWaterVolume', 'TotalBaseNonWaterVolume',\n",
    "    #  'FFVersion', 'FederalWell', 'IndianWell', 'PurposeId', 'TradeName',\n",
    "    #  'Supplier', 'Purpose', 'IngredientsId', 'CASNumber', 'IngredientName',\n",
    "    #  'IngredientCommonName', 'PercentHighAdditive', 'PercentHFJob',\n",
    "    #  'IngredientComment', 'IngredientMSDS', 'MassIngredient', 'ClaimantCompany'\n",
    "# useful columns:\n",
    "    #  'DisclosureId', 'JobStartDate', 'APINumber', 'StateName',\n",
    "    #  'CountyName', 'OperatorName', 'WellName', 'Latitude', 'Longitude',\n",
    "    #  'TVD', 'TotalBaseWaterVolume', 'TotalBaseNonWaterVolume',\n",
    "    #  'Purpose', 'CASNumber', 'PercentHFJob', 'MassIngredient'\n",
    "\n",
    "# extract year from JobStartDate column\n",
    "tempTime = reg[\"JobStartDate\"].str.split(\" \", n = 1, expand = True)\n",
    "date = tempTime[0].str.split(\"/\", expand = True)\n",
    "jobYear = date[2]\n",
    "\n",
    "# add jobYear series to DataFrame\n",
    "reg[\"jobYear\"] = jobYear\n",
    "\n",
    "# rename columns to be more effective/descriptive\n",
    "reg[\"state\"] = reg[\"StateName\"]\n",
    "reg[\"county\"] = reg[\"CountyName\"]\n",
    "reg[\"op\"] = reg[\"OperatorName\"]\n",
    "reg[\"waterVol\"] = reg[\"TotalBaseWaterVolume\"]\n",
    "reg[\"nonWaterVol\"] = reg[\"TotalBaseNonWaterVolume\"]\n",
    "reg[\"depth\"] = reg[\"TVD\"]\n",
    "\n",
    "\n",
    "# remove extraneous columns and reorder slightly\n",
    "regTrim = reg[['DisclosureId', 'jobYear', 'APINumber', 'state', 'county', \n",
    "              'op', 'WellName', 'Latitude', 'Longitude', 'depth', \n",
    "              'waterVol', 'nonWaterVol', 'CASNumber', 'Purpose',\n",
    "              'PercentHFJob', 'MassIngredient']]\n",
    "\n",
    "# export new Dataframe as csv so we don't have to do all this processing every time we start a new session\n",
    "regTrim.to_csv(\"processedRegistry.csv\")"
   ]
  },
  {
   "cell_type": "code",
   "execution_count": 2,
   "id": "5e64e994-970a-4ca3-89a4-4899b988adb7",
   "metadata": {},
   "outputs": [],
   "source": [
    "# read in data as new Dataframe\n",
    "regDF = pd.read_csv(\"processedRegistry.csv\")"
   ]
  },
  {
   "cell_type": "code",
   "execution_count": null,
   "id": "d285035a-35f0-44ac-b122-8c3944022fd1",
   "metadata": {},
   "outputs": [],
   "source": []
  },
  {
   "cell_type": "code",
   "execution_count": null,
   "id": "41970079-0d6b-4eec-a5d1-59f1e4e7346a",
   "metadata": {},
   "outputs": [],
   "source": []
  }
 ],
 "metadata": {
  "kernelspec": {
   "display_name": "Python 3",
   "language": "python",
   "name": "python3"
  },
  "language_info": {
   "codemirror_mode": {
    "name": "ipython",
    "version": 3
   },
   "file_extension": ".py",
   "mimetype": "text/x-python",
   "name": "python",
   "nbconvert_exporter": "python",
   "pygments_lexer": "ipython3",
   "version": "3.6.8"
  }
 },
 "nbformat": 4,
 "nbformat_minor": 5
}
